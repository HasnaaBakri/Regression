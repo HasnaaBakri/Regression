{
 "cells": [
  {
   "cell_type": "code",
   "execution_count": 2,
   "id": "82381da4",
   "metadata": {},
   "outputs": [],
   "source": [
    "import numpy as np \n",
    "import pandas as pd \n",
    "import matplotlib.pyplot as plt\n",
    "import seaborn as sns\n",
    "from sklearn.linear_model import LinearRegression\n",
    "from sklearn.preprocessing import MinMaxScaler\n",
    "from sklearn.model_selection import train_test_split\n"
   ]
  },
  {
   "cell_type": "code",
   "execution_count": 3,
   "id": "b5b1cbea",
   "metadata": {},
   "outputs": [
    {
     "data": {
      "text/html": [
       "<div>\n",
       "<style scoped>\n",
       "    .dataframe tbody tr th:only-of-type {\n",
       "        vertical-align: middle;\n",
       "    }\n",
       "\n",
       "    .dataframe tbody tr th {\n",
       "        vertical-align: top;\n",
       "    }\n",
       "\n",
       "    .dataframe thead th {\n",
       "        text-align: right;\n",
       "    }\n",
       "</style>\n",
       "<table border=\"1\" class=\"dataframe\">\n",
       "  <thead>\n",
       "    <tr style=\"text-align: right;\">\n",
       "      <th></th>\n",
       "      <th>school</th>\n",
       "      <th>school_setting</th>\n",
       "      <th>school_type</th>\n",
       "      <th>classroom</th>\n",
       "      <th>teaching_method</th>\n",
       "      <th>n_student</th>\n",
       "      <th>student_id</th>\n",
       "      <th>gender</th>\n",
       "      <th>lunch</th>\n",
       "      <th>pretest</th>\n",
       "      <th>posttest</th>\n",
       "    </tr>\n",
       "  </thead>\n",
       "  <tbody>\n",
       "    <tr>\n",
       "      <th>0</th>\n",
       "      <td>ANKYI</td>\n",
       "      <td>Urban</td>\n",
       "      <td>Non-public</td>\n",
       "      <td>6OL</td>\n",
       "      <td>Standard</td>\n",
       "      <td>20</td>\n",
       "      <td>2FHT3</td>\n",
       "      <td>Female</td>\n",
       "      <td>Does not qualify</td>\n",
       "      <td>62.0</td>\n",
       "      <td>72.0</td>\n",
       "    </tr>\n",
       "    <tr>\n",
       "      <th>1</th>\n",
       "      <td>ANKYI</td>\n",
       "      <td>Urban</td>\n",
       "      <td>Non-public</td>\n",
       "      <td>6OL</td>\n",
       "      <td>Standard</td>\n",
       "      <td>20</td>\n",
       "      <td>3JIVH</td>\n",
       "      <td>Female</td>\n",
       "      <td>Does not qualify</td>\n",
       "      <td>66.0</td>\n",
       "      <td>79.0</td>\n",
       "    </tr>\n",
       "    <tr>\n",
       "      <th>2</th>\n",
       "      <td>ANKYI</td>\n",
       "      <td>Urban</td>\n",
       "      <td>Non-public</td>\n",
       "      <td>6OL</td>\n",
       "      <td>Standard</td>\n",
       "      <td>20</td>\n",
       "      <td>3XOWE</td>\n",
       "      <td>Male</td>\n",
       "      <td>Does not qualify</td>\n",
       "      <td>64.0</td>\n",
       "      <td>76.0</td>\n",
       "    </tr>\n",
       "    <tr>\n",
       "      <th>3</th>\n",
       "      <td>ANKYI</td>\n",
       "      <td>Urban</td>\n",
       "      <td>Non-public</td>\n",
       "      <td>6OL</td>\n",
       "      <td>Standard</td>\n",
       "      <td>20</td>\n",
       "      <td>556O0</td>\n",
       "      <td>Female</td>\n",
       "      <td>Does not qualify</td>\n",
       "      <td>61.0</td>\n",
       "      <td>77.0</td>\n",
       "    </tr>\n",
       "    <tr>\n",
       "      <th>4</th>\n",
       "      <td>ANKYI</td>\n",
       "      <td>Urban</td>\n",
       "      <td>Non-public</td>\n",
       "      <td>6OL</td>\n",
       "      <td>Standard</td>\n",
       "      <td>20</td>\n",
       "      <td>74LOE</td>\n",
       "      <td>Male</td>\n",
       "      <td>Does not qualify</td>\n",
       "      <td>64.0</td>\n",
       "      <td>76.0</td>\n",
       "    </tr>\n",
       "    <tr>\n",
       "      <th>5</th>\n",
       "      <td>ANKYI</td>\n",
       "      <td>Urban</td>\n",
       "      <td>Non-public</td>\n",
       "      <td>6OL</td>\n",
       "      <td>Standard</td>\n",
       "      <td>20</td>\n",
       "      <td>7YZO8</td>\n",
       "      <td>Female</td>\n",
       "      <td>Does not qualify</td>\n",
       "      <td>66.0</td>\n",
       "      <td>74.0</td>\n",
       "    </tr>\n",
       "    <tr>\n",
       "      <th>6</th>\n",
       "      <td>ANKYI</td>\n",
       "      <td>Urban</td>\n",
       "      <td>Non-public</td>\n",
       "      <td>6OL</td>\n",
       "      <td>Standard</td>\n",
       "      <td>20</td>\n",
       "      <td>9KMZD</td>\n",
       "      <td>Male</td>\n",
       "      <td>Does not qualify</td>\n",
       "      <td>63.0</td>\n",
       "      <td>75.0</td>\n",
       "    </tr>\n",
       "    <tr>\n",
       "      <th>7</th>\n",
       "      <td>ANKYI</td>\n",
       "      <td>Urban</td>\n",
       "      <td>Non-public</td>\n",
       "      <td>6OL</td>\n",
       "      <td>Standard</td>\n",
       "      <td>20</td>\n",
       "      <td>9USQK</td>\n",
       "      <td>Female</td>\n",
       "      <td>Does not qualify</td>\n",
       "      <td>63.0</td>\n",
       "      <td>72.0</td>\n",
       "    </tr>\n",
       "    <tr>\n",
       "      <th>8</th>\n",
       "      <td>ANKYI</td>\n",
       "      <td>Urban</td>\n",
       "      <td>Non-public</td>\n",
       "      <td>6OL</td>\n",
       "      <td>Standard</td>\n",
       "      <td>20</td>\n",
       "      <td>CS5QP</td>\n",
       "      <td>Male</td>\n",
       "      <td>Does not qualify</td>\n",
       "      <td>64.0</td>\n",
       "      <td>77.0</td>\n",
       "    </tr>\n",
       "    <tr>\n",
       "      <th>9</th>\n",
       "      <td>ANKYI</td>\n",
       "      <td>Urban</td>\n",
       "      <td>Non-public</td>\n",
       "      <td>6OL</td>\n",
       "      <td>Standard</td>\n",
       "      <td>20</td>\n",
       "      <td>D6HT8</td>\n",
       "      <td>Female</td>\n",
       "      <td>Does not qualify</td>\n",
       "      <td>61.0</td>\n",
       "      <td>72.0</td>\n",
       "    </tr>\n",
       "  </tbody>\n",
       "</table>\n",
       "</div>"
      ],
      "text/plain": [
       "  school school_setting school_type classroom teaching_method  n_student  \\\n",
       "0  ANKYI          Urban  Non-public       6OL        Standard         20   \n",
       "1  ANKYI          Urban  Non-public       6OL        Standard         20   \n",
       "2  ANKYI          Urban  Non-public       6OL        Standard         20   \n",
       "3  ANKYI          Urban  Non-public       6OL        Standard         20   \n",
       "4  ANKYI          Urban  Non-public       6OL        Standard         20   \n",
       "5  ANKYI          Urban  Non-public       6OL        Standard         20   \n",
       "6  ANKYI          Urban  Non-public       6OL        Standard         20   \n",
       "7  ANKYI          Urban  Non-public       6OL        Standard         20   \n",
       "8  ANKYI          Urban  Non-public       6OL        Standard         20   \n",
       "9  ANKYI          Urban  Non-public       6OL        Standard         20   \n",
       "\n",
       "  student_id  gender             lunch  pretest  posttest  \n",
       "0      2FHT3  Female  Does not qualify     62.0      72.0  \n",
       "1      3JIVH  Female  Does not qualify     66.0      79.0  \n",
       "2      3XOWE    Male  Does not qualify     64.0      76.0  \n",
       "3      556O0  Female  Does not qualify     61.0      77.0  \n",
       "4      74LOE    Male  Does not qualify     64.0      76.0  \n",
       "5      7YZO8  Female  Does not qualify     66.0      74.0  \n",
       "6      9KMZD    Male  Does not qualify     63.0      75.0  \n",
       "7      9USQK  Female  Does not qualify     63.0      72.0  \n",
       "8      CS5QP    Male  Does not qualify     64.0      77.0  \n",
       "9      D6HT8  Female  Does not qualify     61.0      72.0  "
      ]
     },
     "execution_count": 3,
     "metadata": {},
     "output_type": "execute_result"
    }
   ],
   "source": [
    "df=pd.read_csv(r\"test_scores.csv\")\n",
    "df.head(10)"
   ]
  },
  {
   "cell_type": "code",
   "execution_count": 7,
   "id": "74f5574b",
   "metadata": {},
   "outputs": [
    {
     "name": "stdout",
     "output_type": "stream",
     "text": [
      "<class 'pandas.core.frame.DataFrame'>\n",
      "RangeIndex: 2221 entries, 0 to 2220\n",
      "Data columns (total 11 columns):\n",
      " #   Column           Non-Null Count  Dtype  \n",
      "---  ------           --------------  -----  \n",
      " 0   school           2158 non-null   object \n",
      " 1   school_setting   2157 non-null   object \n",
      " 2   school_type      2221 non-null   object \n",
      " 3   classroom        2221 non-null   object \n",
      " 4   teaching_method  2221 non-null   object \n",
      " 5   n_student        2221 non-null   int64  \n",
      " 6   student_id       2221 non-null   object \n",
      " 7   gender           2221 non-null   object \n",
      " 8   lunch            2221 non-null   object \n",
      " 9   pretest          2158 non-null   float64\n",
      " 10  posttest         2158 non-null   float64\n",
      "dtypes: float64(2), int64(1), object(8)\n",
      "memory usage: 191.0+ KB\n"
     ]
    }
   ],
   "source": [
    "df.info()"
   ]
  },
  {
   "cell_type": "code",
   "execution_count": 8,
   "id": "868feb80",
   "metadata": {},
   "outputs": [
    {
     "name": "stdout",
     "output_type": "stream",
     "text": [
      "<class 'pandas.core.frame.DataFrame'>\n",
      "Index: 2157 entries, 0 to 2158\n",
      "Data columns (total 11 columns):\n",
      " #   Column           Non-Null Count  Dtype  \n",
      "---  ------           --------------  -----  \n",
      " 0   school           2157 non-null   object \n",
      " 1   school_setting   2157 non-null   object \n",
      " 2   school_type      2157 non-null   object \n",
      " 3   classroom        2157 non-null   object \n",
      " 4   teaching_method  2157 non-null   object \n",
      " 5   n_student        2157 non-null   int64  \n",
      " 6   student_id       2157 non-null   object \n",
      " 7   gender           2157 non-null   object \n",
      " 8   lunch            2157 non-null   object \n",
      " 9   pretest          2157 non-null   float64\n",
      " 10  posttest         2157 non-null   float64\n",
      "dtypes: float64(2), int64(1), object(8)\n",
      "memory usage: 202.2+ KB\n"
     ]
    }
   ],
   "source": [
    "df=df.dropna()\n",
    "df.info()"
   ]
  },
  {
   "cell_type": "code",
   "execution_count": 9,
   "id": "1978a2aa",
   "metadata": {},
   "outputs": [
    {
     "data": {
      "text/plain": [
       "0.8729835150046"
      ]
     },
     "execution_count": 9,
     "metadata": {},
     "output_type": "execute_result"
    }
   ],
   "source": [
    "x=df[[\"n_student\" ,\"pretest\"]]\n",
    "y=df[\"posttest\"]\n",
    "model=LinearRegression()\n",
    "model.fit(x,y)\n",
    "model.score(x,y)"
   ]
  },
  {
   "cell_type": "code",
   "execution_count": 10,
   "id": "2b72cd20",
   "metadata": {},
   "outputs": [
    {
     "data": {
      "text/html": [
       "<div>\n",
       "<style scoped>\n",
       "    .dataframe tbody tr th:only-of-type {\n",
       "        vertical-align: middle;\n",
       "    }\n",
       "\n",
       "    .dataframe tbody tr th {\n",
       "        vertical-align: top;\n",
       "    }\n",
       "\n",
       "    .dataframe thead th {\n",
       "        text-align: right;\n",
       "    }\n",
       "</style>\n",
       "<table border=\"1\" class=\"dataframe\">\n",
       "  <thead>\n",
       "    <tr style=\"text-align: right;\">\n",
       "      <th></th>\n",
       "      <th>n_student</th>\n",
       "      <th>pretest</th>\n",
       "      <th>posttest</th>\n",
       "    </tr>\n",
       "  </thead>\n",
       "  <tbody>\n",
       "    <tr>\n",
       "      <th>count</th>\n",
       "      <td>2157.000000</td>\n",
       "      <td>2157.000000</td>\n",
       "      <td>2157.000000</td>\n",
       "    </tr>\n",
       "    <tr>\n",
       "      <th>mean</th>\n",
       "      <td>22.601298</td>\n",
       "      <td>54.953639</td>\n",
       "      <td>66.983774</td>\n",
       "    </tr>\n",
       "    <tr>\n",
       "      <th>std</th>\n",
       "      <td>4.689779</td>\n",
       "      <td>13.604597</td>\n",
       "      <td>14.510959</td>\n",
       "    </tr>\n",
       "    <tr>\n",
       "      <th>min</th>\n",
       "      <td>0.000000</td>\n",
       "      <td>22.000000</td>\n",
       "      <td>-19.000000</td>\n",
       "    </tr>\n",
       "    <tr>\n",
       "      <th>25%</th>\n",
       "      <td>20.000000</td>\n",
       "      <td>44.000000</td>\n",
       "      <td>56.000000</td>\n",
       "    </tr>\n",
       "    <tr>\n",
       "      <th>50%</th>\n",
       "      <td>22.000000</td>\n",
       "      <td>55.000000</td>\n",
       "      <td>68.000000</td>\n",
       "    </tr>\n",
       "    <tr>\n",
       "      <th>75%</th>\n",
       "      <td>27.000000</td>\n",
       "      <td>65.000000</td>\n",
       "      <td>77.000000</td>\n",
       "    </tr>\n",
       "    <tr>\n",
       "      <th>max</th>\n",
       "      <td>31.000000</td>\n",
       "      <td>93.000000</td>\n",
       "      <td>111.000000</td>\n",
       "    </tr>\n",
       "  </tbody>\n",
       "</table>\n",
       "</div>"
      ],
      "text/plain": [
       "         n_student      pretest     posttest\n",
       "count  2157.000000  2157.000000  2157.000000\n",
       "mean     22.601298    54.953639    66.983774\n",
       "std       4.689779    13.604597    14.510959\n",
       "min       0.000000    22.000000   -19.000000\n",
       "25%      20.000000    44.000000    56.000000\n",
       "50%      22.000000    55.000000    68.000000\n",
       "75%      27.000000    65.000000    77.000000\n",
       "max      31.000000    93.000000   111.000000"
      ]
     },
     "execution_count": 10,
     "metadata": {},
     "output_type": "execute_result"
    }
   ],
   "source": [
    "df.describe()"
   ]
  },
  {
   "cell_type": "code",
   "execution_count": 11,
   "id": "27331c8c",
   "metadata": {},
   "outputs": [],
   "source": [
    "df=df[df[\"posttest\"]>=0 ]\n",
    "df=df[df[\"posttest\"]<=100 ]"
   ]
  },
  {
   "cell_type": "code",
   "execution_count": 12,
   "id": "3a4ac8e1",
   "metadata": {},
   "outputs": [],
   "source": [
    "df=df[df[\"n_student\"]>0]"
   ]
  },
  {
   "cell_type": "code",
   "execution_count": 13,
   "id": "b571474f",
   "metadata": {},
   "outputs": [
    {
     "data": {
      "text/html": [
       "<div>\n",
       "<style scoped>\n",
       "    .dataframe tbody tr th:only-of-type {\n",
       "        vertical-align: middle;\n",
       "    }\n",
       "\n",
       "    .dataframe tbody tr th {\n",
       "        vertical-align: top;\n",
       "    }\n",
       "\n",
       "    .dataframe thead th {\n",
       "        text-align: right;\n",
       "    }\n",
       "</style>\n",
       "<table border=\"1\" class=\"dataframe\">\n",
       "  <thead>\n",
       "    <tr style=\"text-align: right;\">\n",
       "      <th></th>\n",
       "      <th>n_student</th>\n",
       "      <th>pretest</th>\n",
       "      <th>posttest</th>\n",
       "    </tr>\n",
       "  </thead>\n",
       "  <tbody>\n",
       "    <tr>\n",
       "      <th>count</th>\n",
       "      <td>2133.000000</td>\n",
       "      <td>2133.000000</td>\n",
       "      <td>2133.000000</td>\n",
       "    </tr>\n",
       "    <tr>\n",
       "      <th>mean</th>\n",
       "      <td>22.796531</td>\n",
       "      <td>54.955931</td>\n",
       "      <td>67.102203</td>\n",
       "    </tr>\n",
       "    <tr>\n",
       "      <th>std</th>\n",
       "      <td>4.228893</td>\n",
       "      <td>13.563101</td>\n",
       "      <td>13.986789</td>\n",
       "    </tr>\n",
       "    <tr>\n",
       "      <th>min</th>\n",
       "      <td>14.000000</td>\n",
       "      <td>22.000000</td>\n",
       "      <td>32.000000</td>\n",
       "    </tr>\n",
       "    <tr>\n",
       "      <th>25%</th>\n",
       "      <td>20.000000</td>\n",
       "      <td>44.000000</td>\n",
       "      <td>56.000000</td>\n",
       "    </tr>\n",
       "    <tr>\n",
       "      <th>50%</th>\n",
       "      <td>22.000000</td>\n",
       "      <td>56.000000</td>\n",
       "      <td>68.000000</td>\n",
       "    </tr>\n",
       "    <tr>\n",
       "      <th>75%</th>\n",
       "      <td>27.000000</td>\n",
       "      <td>65.000000</td>\n",
       "      <td>77.000000</td>\n",
       "    </tr>\n",
       "    <tr>\n",
       "      <th>max</th>\n",
       "      <td>31.000000</td>\n",
       "      <td>93.000000</td>\n",
       "      <td>100.000000</td>\n",
       "    </tr>\n",
       "  </tbody>\n",
       "</table>\n",
       "</div>"
      ],
      "text/plain": [
       "         n_student      pretest     posttest\n",
       "count  2133.000000  2133.000000  2133.000000\n",
       "mean     22.796531    54.955931    67.102203\n",
       "std       4.228893    13.563101    13.986789\n",
       "min      14.000000    22.000000    32.000000\n",
       "25%      20.000000    44.000000    56.000000\n",
       "50%      22.000000    56.000000    68.000000\n",
       "75%      27.000000    65.000000    77.000000\n",
       "max      31.000000    93.000000   100.000000"
      ]
     },
     "execution_count": 13,
     "metadata": {},
     "output_type": "execute_result"
    }
   ],
   "source": [
    "df.describe()"
   ]
  },
  {
   "cell_type": "code",
   "execution_count": 14,
   "id": "db91bf8a",
   "metadata": {},
   "outputs": [
    {
     "data": {
      "text/plain": [
       "<Axes: xlabel='pretest', ylabel='Count'>"
      ]
     },
     "execution_count": 14,
     "metadata": {},
     "output_type": "execute_result"
    },
    {
     "data": {
      "image/png": "[encoded data removed]",
      "text/plain": [
       "<Figure size 1500x600 with 1 Axes>"
      ]
     },
     "metadata": {},
     "output_type": "display_data"
    },
    {
     "data": {
      "image/png": "[encoded data removed]",
      "text/plain": [
       "<Figure size 1500x600 with 1 Axes>"
      ]
     },
     "metadata": {},
     "output_type": "display_data"
    }
   ],
   "source": [
    "scaler = MinMaxScaler()\n",
    "df[[\"n_student\" , \"pretest\" , \"posttest\"]] = pd.DataFrame(scaler.fit_transform(df[[\"n_student\" , \"pretest\" , \"posttest\"]]),columns=df[[\"n_student\" , \"pretest\" , \"posttest\"]].columns)\n",
    "plt.figure(figsize=(15 ,6))\n",
    "sns.histplot(df[\"n_student\"])\n",
    "plt.figure(figsize=(15 ,6))\n",
    "sns.histplot(df[\"pretest\"])\n"
   ]
  },
  {
   "cell_type": "code",
   "execution_count": 15,
   "id": "6ac1dc9b",
   "metadata": {},
   "outputs": [
    {
     "data": {
      "text/plain": [
       "<Axes: xlabel='pretest', ylabel='Count'>"
      ]
     },
     "execution_count": 15,
     "metadata": {},
     "output_type": "execute_result"
    },
    {
     "data": {
      "image/png": "[encoded data removed]",
      "text/plain": [
       "<Figure size 1500x600 with 1 Axes>"
      ]
     },
     "metadata": {},
     "output_type": "display_data"
    },
    {
     "data": {
      "image/png": "[encoded data removed]",
      "text/plain": [
       "<Figure size 1500x600 with 1 Axes>"
      ]
     },
     "metadata": {},
     "output_type": "display_data"
    }
   ],
   "source": [
    "plt.figure(figsize=(15 ,6))\n",
    "sns.histplot(df[\"n_student\"])\n",
    "plt.figure(figsize=(15 ,6))\n",
    "sns.histplot(df[\"pretest\"])"
   ]
  },
  {
   "cell_type": "code",
   "execution_count": null,
   "id": "d04ec418",
   "metadata": {},
   "outputs": [
    {
     "name": "stderr",
     "output_type": "stream",
     "text": [
      "C:\\Users\\HASSNA\\AppData\\Local\\Temp\\ipykernel_10476\\2611970710.py:2: FutureWarning: The default value of numeric_only in DataFrame.corr is deprecated. In a future version, it will default to False. Select only valid columns or specify the value of numeric_only to silence this warning.\n",
      "  sns.heatmap(df.corr(),annot=True)\n"
     ]
    },
    {
     "data": {
      "text/plain": [
       "<AxesSubplot: >"
      ]
     },
     "execution_count": 272,
     "metadata": {},
     "output_type": "execute_result"
    },
    {
     "data": {
      "image/png": "[encoded data removed]",
      "text/plain": [
       "<Figure size 1080x432 with 2 Axes>"
      ]
     },
     "metadata": {},
     "output_type": "display_data"
    }
   ],
   "source": [
    "plt.figure(figsize=((15,6)))\n",
    "sns.heatmap(df.corr(),annot=True)"
   ]
  },
  {
   "cell_type": "code",
   "execution_count": null,
   "id": "6ca7e8aa",
   "metadata": {},
   "outputs": [
    {
     "data": {
      "text/plain": [
       "0.9053921099960637"
      ]
     },
     "execution_count": 273,
     "metadata": {},
     "output_type": "execute_result"
    }
   ],
   "source": [
    "x=df[[\"n_student\" ,\"pretest\"]]\n",
    "y=df[\"posttest\"]\n",
    "model=LinearRegression()\n",
    "model.fit(x,y)\n",
    "model.score(x,y)"
   ]
  },
  {
   "cell_type": "code",
   "execution_count": null,
   "id": "e0d1d657",
   "metadata": {},
   "outputs": [
    {
     "data": {
      "text/plain": [
       "<AxesSubplot: xlabel='posttest', ylabel='Count'>"
      ]
     },
     "execution_count": 274,
     "metadata": {},
     "output_type": "execute_result"
    },
    {
     "data": {
      "image/png": "[encoded data removed]",
      "text/plain": [
       "<Figure size 1152x360 with 1 Axes>"
      ]
     },
     "metadata": {},
     "output_type": "display_data"
    }
   ],
   "source": [
    "plt.figure(figsize=((16 ,5)))\n",
    "sns.histplot(x=df[\"posttest\"])"
   ]
  },
  {
   "cell_type": "code",
   "execution_count": null,
   "id": "ab579710",
   "metadata": {},
   "outputs": [
    {
     "data": {
      "text/html": [
       "<div>\n",
       "<style scoped>\n",
       "    .dataframe tbody tr th:only-of-type {\n",
       "        vertical-align: middle;\n",
       "    }\n",
       "\n",
       "    .dataframe tbody tr th {\n",
       "        vertical-align: top;\n",
       "    }\n",
       "\n",
       "    .dataframe thead th {\n",
       "        text-align: right;\n",
       "    }\n",
       "</style>\n",
       "<table border=\"1\" class=\"dataframe\">\n",
       "  <thead>\n",
       "    <tr style=\"text-align: right;\">\n",
       "      <th></th>\n",
       "      <th>school</th>\n",
       "      <th>school_setting</th>\n",
       "      <th>school_type</th>\n",
       "      <th>classroom</th>\n",
       "      <th>teaching_method</th>\n",
       "      <th>n_student</th>\n",
       "      <th>student_id</th>\n",
       "      <th>gender</th>\n",
       "      <th>lunch</th>\n",
       "      <th>pretest</th>\n",
       "      <th>posttest</th>\n",
       "    </tr>\n",
       "  </thead>\n",
       "  <tbody>\n",
       "    <tr>\n",
       "      <th>0</th>\n",
       "      <td>ankyi</td>\n",
       "      <td>urban</td>\n",
       "      <td>non-public</td>\n",
       "      <td>6ol</td>\n",
       "      <td>standard</td>\n",
       "      <td>0.352941</td>\n",
       "      <td>2fht3</td>\n",
       "      <td>female</td>\n",
       "      <td>does_not_qualify</td>\n",
       "      <td>0.563380</td>\n",
       "      <td>0.588235</td>\n",
       "    </tr>\n",
       "    <tr>\n",
       "      <th>1</th>\n",
       "      <td>ankyi</td>\n",
       "      <td>urban</td>\n",
       "      <td>non-public</td>\n",
       "      <td>6ol</td>\n",
       "      <td>standard</td>\n",
       "      <td>0.352941</td>\n",
       "      <td>3jivh</td>\n",
       "      <td>female</td>\n",
       "      <td>does_not_qualify</td>\n",
       "      <td>0.619718</td>\n",
       "      <td>0.691176</td>\n",
       "    </tr>\n",
       "    <tr>\n",
       "      <th>2</th>\n",
       "      <td>ankyi</td>\n",
       "      <td>urban</td>\n",
       "      <td>non-public</td>\n",
       "      <td>6ol</td>\n",
       "      <td>standard</td>\n",
       "      <td>0.352941</td>\n",
       "      <td>3xowe</td>\n",
       "      <td>male</td>\n",
       "      <td>does_not_qualify</td>\n",
       "      <td>0.591549</td>\n",
       "      <td>0.647059</td>\n",
       "    </tr>\n",
       "    <tr>\n",
       "      <th>3</th>\n",
       "      <td>ankyi</td>\n",
       "      <td>urban</td>\n",
       "      <td>non-public</td>\n",
       "      <td>6ol</td>\n",
       "      <td>standard</td>\n",
       "      <td>0.352941</td>\n",
       "      <td>556o0</td>\n",
       "      <td>female</td>\n",
       "      <td>does_not_qualify</td>\n",
       "      <td>0.549296</td>\n",
       "      <td>0.661765</td>\n",
       "    </tr>\n",
       "    <tr>\n",
       "      <th>4</th>\n",
       "      <td>ankyi</td>\n",
       "      <td>urban</td>\n",
       "      <td>non-public</td>\n",
       "      <td>6ol</td>\n",
       "      <td>standard</td>\n",
       "      <td>0.352941</td>\n",
       "      <td>74loe</td>\n",
       "      <td>male</td>\n",
       "      <td>does_not_qualify</td>\n",
       "      <td>0.591549</td>\n",
       "      <td>0.647059</td>\n",
       "    </tr>\n",
       "  </tbody>\n",
       "</table>\n",
       "</div>"
      ],
      "text/plain": [
       "  school school_setting school_type  ...             lunch   pretest  posttest\n",
       "0  ankyi          urban  non-public  ...  does_not_qualify  0.563380  0.588235\n",
       "1  ankyi          urban  non-public  ...  does_not_qualify  0.619718  0.691176\n",
       "2  ankyi          urban  non-public  ...  does_not_qualify  0.591549  0.647059\n",
       "3  ankyi          urban  non-public  ...  does_not_qualify  0.549296  0.661765\n",
       "4  ankyi          urban  non-public  ...  does_not_qualify  0.591549  0.647059\n",
       "\n",
       "[5 rows x 11 columns]"
      ]
     },
     "execution_count": 275,
     "metadata": {},
     "output_type": "execute_result"
    }
   ],
   "source": [
    "for col in df.columns:\n",
    "    if df[col].dtype == \"object\":\n",
    "        df[col] = df[col].str.lower()\n",
    "        df[col] = df[col].str.replace(\" \",\"_\")\n",
    "df.head()"
   ]
  },
  {
   "cell_type": "code",
   "execution_count": null,
   "id": "d50b8c6b",
   "metadata": {},
   "outputs": [
    {
     "name": "stdout",
     "output_type": "stream",
     "text": [
      "23\n",
      "3\n",
      "2\n",
      "97\n",
      "2\n",
      "2133\n",
      "2\n",
      "2\n"
     ]
    }
   ],
   "source": [
    "print (df[\"school\"].nunique())#1\n",
    "print (df[\"school_setting\"].nunique())#2\n",
    "print (df[\"school_type\"].nunique())#3\n",
    "print (df[\"classroom\"].nunique())#drop\n",
    "print (df[\"teaching_method\"].nunique())#4\n",
    "print (df[\"student_id\"].nunique())#drop\n",
    "print (df[\"gender\"].nunique())#5\n",
    "print (df[\"lunch\"].nunique())#6"
   ]
  },
  {
   "cell_type": "code",
   "execution_count": null,
   "id": "9ae905b1",
   "metadata": {},
   "outputs": [],
   "source": [
    "df=df.drop([ \"student_id\" , \"classroom\"] , axis=1)"
   ]
  },
  {
   "cell_type": "code",
   "execution_count": null,
   "id": "10ce9d75",
   "metadata": {},
   "outputs": [],
   "source": [
    " # df=pd.get_dummies(df, columns=[\"school\"]) => score:0.9159810093608197"
   ]
  },
  {
   "cell_type": "code",
   "execution_count": null,
   "id": "06d9eca4",
   "metadata": {},
   "outputs": [],
   "source": [
    "#x=df.drop([\"posttest\" , \"school_setting\",\"school_type\" , \"teaching_method\",\"gender\",\"lunch\"] , axis=1)\n",
    "#y=df[\"posttest\"]\n",
    "#model=LinearRegression()\n",
    "#model.fit(x,y)\n",
    "#model.score(x,y)\n",
    "#df=df.drop([\"school\"] , axis=1)"
   ]
  },
  {
   "cell_type": "code",
   "execution_count": null,
   "id": "1209136e",
   "metadata": {},
   "outputs": [
    {
     "data": {
      "text/plain": [
       "<AxesSubplot: xlabel='school_setting', ylabel='posttest'>"
      ]
     },
     "execution_count": 280,
     "metadata": {},
     "output_type": "execute_result"
    },
    {
     "data": {
      "image/png": "[encoded data removed]",
      "text/plain": [
       "<Figure size 360x360 with 1 Axes>"
      ]
     },
     "metadata": {},
     "output_type": "display_data"
    }
   ],
   "source": [
    "plt.figure(figsize=((5,5)))\n",
    "sns.barplot(x=df[\"school_setting\"],y=df[\"posttest\"])"
   ]
  },
  {
   "cell_type": "code",
   "execution_count": null,
   "id": "7e2de598",
   "metadata": {},
   "outputs": [
    {
     "data": {
      "text/plain": [
       "<AxesSubplot: xlabel='school', ylabel='posttest'>"
      ]
     },
     "execution_count": 281,
     "metadata": {},
     "output_type": "execute_result"
    },
    {
     "data": {
      "image/png": "[encoded data removed]",
      "text/plain": [
       "<Figure size 1152x360 with 1 Axes>"
      ]
     },
     "metadata": {},
     "output_type": "display_data"
    }
   ],
   "source": [
    "plt.figure(figsize=((16 ,5)))\n",
    "sns.barplot(x=df[\"school\"],y=df[\"posttest\"])"
   ]
  },
  {
   "cell_type": "code",
   "execution_count": null,
   "id": "3da542b1",
   "metadata": {},
   "outputs": [
    {
     "data": {
      "text/plain": [
       "<AxesSubplot: xlabel='school_type', ylabel='posttest'>"
      ]
     },
     "execution_count": 282,
     "metadata": {},
     "output_type": "execute_result"
    },
    {
     "data": {
      "image/png": "[encoded data removed]",
      "text/plain": [
       "<Figure size 360x360 with 1 Axes>"
      ]
     },
     "metadata": {},
     "output_type": "display_data"
    }
   ],
   "source": [
    "plt.figure(figsize=((5,5)))\n",
    "sns.barplot(x=df[\"school_type\"],y=df[\"posttest\"])"
   ]
  },
  {
   "cell_type": "code",
   "execution_count": null,
   "id": "d4abe09d",
   "metadata": {},
   "outputs": [
    {
     "data": {
      "text/plain": [
       "<AxesSubplot: xlabel='teaching_method', ylabel='posttest'>"
      ]
     },
     "execution_count": 283,
     "metadata": {},
     "output_type": "execute_result"
    },
    {
     "data": {
      "image/png": "[encoded data removed]",
      "text/plain": [
       "<Figure size 360x360 with 1 Axes>"
      ]
     },
     "metadata": {},
     "output_type": "display_data"
    }
   ],
   "source": [
    "plt.figure(figsize=((5,5)))\n",
    "sns.barplot(x=df[\"teaching_method\"],y=df[\"posttest\"])"
   ]
  },
  {
   "cell_type": "code",
   "execution_count": null,
   "id": "ad33281d",
   "metadata": {},
   "outputs": [
    {
     "data": {
      "text/plain": [
       "<AxesSubplot: xlabel='gender', ylabel='posttest'>"
      ]
     },
     "execution_count": 284,
     "metadata": {},
     "output_type": "execute_result"
    },
    {
     "data": {
      "image/png": "[encoded data removed]",
      "text/plain": [
       "<Figure size 360x360 with 1 Axes>"
      ]
     },
     "metadata": {},
     "output_type": "display_data"
    }
   ],
   "source": [
    "plt.figure(figsize=((5,5)))\n",
    "sns.barplot(x=df[\"gender\"],y=df[\"posttest\"])"
   ]
  },
  {
   "cell_type": "code",
   "execution_count": null,
   "id": "c720f59a",
   "metadata": {},
   "outputs": [],
   "source": [
    "df=df.drop([\"gender\"] , axis=1)"
   ]
  },
  {
   "cell_type": "code",
   "execution_count": null,
   "id": "87cc62c9",
   "metadata": {},
   "outputs": [
    {
     "data": {
      "text/plain": [
       "<AxesSubplot: xlabel='lunch', ylabel='posttest'>"
      ]
     },
     "execution_count": 286,
     "metadata": {},
     "output_type": "execute_result"
    },
    {
     "data": {
      "image/png": "[encoded data removed]",
      "text/plain": [
       "<Figure size 360x360 with 1 Axes>"
      ]
     },
     "metadata": {},
     "output_type": "display_data"
    }
   ],
   "source": [
    "plt.figure(figsize=((5,5)))\n",
    "sns.barplot(x=df[\"lunch\"],y=df[\"posttest\"])"
   ]
  },
  {
   "cell_type": "code",
   "execution_count": null,
   "id": "6cc4b68e",
   "metadata": {},
   "outputs": [],
   "source": [
    "df=pd.get_dummies(df, columns=[\"school_type\" , \"school\" , \"teaching_method\"  , \"lunch\" , \"school_setting\"])"
   ]
  },
  {
   "cell_type": "code",
   "execution_count": null,
   "id": "8e7349a8",
   "metadata": {},
   "outputs": [
    {
     "name": "stdout",
     "output_type": "stream",
     "text": [
      "<class 'pandas.core.frame.DataFrame'>\n",
      "Int64Index: 2133 entries, 0 to 2132\n",
      "Data columns (total 35 columns):\n",
      " #   Column                                  Non-Null Count  Dtype  \n",
      "---  ------                                  --------------  -----  \n",
      " 0   n_student                               2133 non-null   float64\n",
      " 1   pretest                                 2133 non-null   float64\n",
      " 2   posttest                                2133 non-null   float64\n",
      " 3   school_type_non-public                  2133 non-null   uint8  \n",
      " 4   school_type_public                      2133 non-null   uint8  \n",
      " 5   school_ankyi                            2133 non-null   uint8  \n",
      " 6   school_ccaaw                            2133 non-null   uint8  \n",
      " 7   school_cimbb                            2133 non-null   uint8  \n",
      " 8   school_cuqam                            2133 non-null   uint8  \n",
      " 9   school_dnqdd                            2133 non-null   uint8  \n",
      " 10  school_fbumg                            2133 non-null   uint8  \n",
      " 11  school_gjjhk                            2133 non-null   uint8  \n",
      " 12  school_gokxl                            2133 non-null   uint8  \n",
      " 13  school_goobu                            2133 non-null   uint8  \n",
      " 14  school_idgfp                            2133 non-null   uint8  \n",
      " 15  school_kfzmy                            2133 non-null   uint8  \n",
      " 16  school_kzkke                            2133 non-null   uint8  \n",
      " 17  school_laypa                            2133 non-null   uint8  \n",
      " 18  school_ojobu                            2133 non-null   uint8  \n",
      " 19  school_qoqts                            2133 non-null   uint8  \n",
      " 20  school_uagpu                            2133 non-null   uint8  \n",
      " 21  school_ukpgs                            2133 non-null   uint8  \n",
      " 22  school_uuuqx                            2133 non-null   uint8  \n",
      " 23  school_vhdhf                            2133 non-null   uint8  \n",
      " 24  school_vkwqh                            2133 non-null   uint8  \n",
      " 25  school_vvtva                            2133 non-null   uint8  \n",
      " 26  school_zmnya                            2133 non-null   uint8  \n",
      " 27  school_zowmk                            2133 non-null   uint8  \n",
      " 28  teaching_method_experimental            2133 non-null   uint8  \n",
      " 29  teaching_method_standard                2133 non-null   uint8  \n",
      " 30  lunch_does_not_qualify                  2133 non-null   uint8  \n",
      " 31  lunch_qualifies_for_reduced/free_lunch  2133 non-null   uint8  \n",
      " 32  school_setting_rural                    2133 non-null   uint8  \n",
      " 33  school_setting_suburban                 2133 non-null   uint8  \n",
      " 34  school_setting_urban                    2133 non-null   uint8  \n",
      "dtypes: float64(3), uint8(32)\n",
      "memory usage: 133.3 KB\n"
     ]
    }
   ],
   "source": [
    "df.info()"
   ]
  },
  {
   "cell_type": "code",
   "execution_count": null,
   "id": "07fe2cbb",
   "metadata": {},
   "outputs": [
    {
     "name": "stdout",
     "output_type": "stream",
     "text": [
      "0.9499942589440294\n",
      "0.950024564520449\n"
     ]
    }
   ],
   "source": [
    "x=df.drop([\"posttest\"] , axis=1)\n",
    "y=df[\"posttest\"]\n",
    "x_train , x_test , y_train , y_test=train_test_split(x,y,test_size=.2, random_state=42)\n",
    "model=LinearRegression()\n",
    "model.fit(x_train,y_train)\n",
    "print (model.score(x_train,y_train))\n",
    "print (model.score(x_test , y_test))"
   ]
  },
  {
   "cell_type": "code",
   "execution_count": null,
   "id": "706730ff",
   "metadata": {},
   "outputs": [
    {
     "data": {
      "text/plain": [
       "0.950114980631809"
      ]
     },
     "execution_count": 290,
     "metadata": {},
     "output_type": "execute_result"
    }
   ],
   "source": [
    "x=df.drop([\"posttest\"] , axis=1)\n",
    "y=df[\"posttest\"]\n",
    "model=LinearRegression()\n",
    "model.fit(x,y)\n",
    "model.score(x,y)"
   ]
  },
  {
   "cell_type": "code",
   "execution_count": null,
   "id": "40a8ff0a",
   "metadata": {},
   "outputs": [],
   "source": []
  }
 ],
 "metadata": {
  "kernelspec": {
   "display_name": "Python 3 (Spyder)",
   "language": "python3",
   "name": "python3"
  },
  "language_info": {
   "codemirror_mode": {
    "name": "ipython",
    "version": 3
   },
   "file_extension": ".py",
   "mimetype": "text/x-python",
   "name": "python",
   "nbconvert_exporter": "python",
   "pygments_lexer": "ipython3",
   "version": "3.11.3"
  }
 },
 "nbformat": 4,
 "nbformat_minor": 5
}
